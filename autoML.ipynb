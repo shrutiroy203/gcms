{
 "cells": [
  {
   "cell_type": "code",
   "execution_count": 1,
   "metadata": {
    "ExecuteTime": {
     "end_time": "2020-12-05T21:02:36.776261Z",
     "start_time": "2020-12-05T21:02:36.568477Z"
    }
   },
   "outputs": [],
   "source": [
    "import h2o\n",
    "from h2o.automl import H2OAutoML"
   ]
  },
  {
   "cell_type": "code",
   "execution_count": 2,
   "metadata": {
    "ExecuteTime": {
     "end_time": "2020-12-05T21:02:36.780255Z",
     "start_time": "2020-12-05T21:02:36.778083Z"
    }
   },
   "outputs": [],
   "source": [
    "prev_min_range = 10\n",
    "foll_min_range = 25\n",
    "\n",
    "negative_case_interval = 240\n",
    "negative_case_after_meal = 60\n",
    "negative_case_before_meal = 60"
   ]
  },
  {
   "cell_type": "code",
   "execution_count": 3,
   "metadata": {
    "ExecuteTime": {
     "end_time": "2020-12-05T21:02:36.784003Z",
     "start_time": "2020-12-05T21:02:36.781958Z"
    }
   },
   "outputs": [],
   "source": [
    "max_models = 10\n",
    "seed = 1\n",
    "nfolds = 10"
   ]
  },
  {
   "cell_type": "code",
   "execution_count": 4,
   "metadata": {
    "ExecuteTime": {
     "end_time": "2020-12-05T21:02:36.787619Z",
     "start_time": "2020-12-05T21:02:36.785566Z"
    }
   },
   "outputs": [],
   "source": [
    "file_name = '{}_{}_{}_{}_{}.csv'.format(\n",
    "    'cgms', prev_min_range, foll_min_range, negative_case_after_meal, negative_case_before_meal)"
   ]
  },
  {
   "cell_type": "code",
   "execution_count": 5,
   "metadata": {
    "ExecuteTime": {
     "end_time": "2020-12-05T21:02:36.795823Z",
     "start_time": "2020-12-05T21:02:36.788940Z"
    }
   },
   "outputs": [
    {
     "data": {
      "text/plain": [
       "'cgms_10_25_60_60.csv'"
      ]
     },
     "execution_count": 5,
     "metadata": {},
     "output_type": "execute_result"
    }
   ],
   "source": [
    "file_name"
   ]
  },
  {
   "cell_type": "code",
   "execution_count": null,
   "metadata": {
    "ExecuteTime": {
     "start_time": "2020-12-05T21:02:36.558Z"
    }
   },
   "outputs": [],
   "source": [
    "from pyspark.sql import SparkSession\n",
    "from pysparkling import *\n",
    "\n",
    "ss = SparkSession.builder.getOrCreate()\n",
    "hc = H2OContext.getOrCreate()\n",
    "import h2o"
   ]
  },
  {
   "cell_type": "code",
   "execution_count": null,
   "metadata": {
    "ExecuteTime": {
     "start_time": "2020-12-05T21:02:36.560Z"
    }
   },
   "outputs": [],
   "source": [
    "train = h2o.import_file(file_name)"
   ]
  },
  {
   "cell_type": "code",
   "execution_count": null,
   "metadata": {
    "ExecuteTime": {
     "start_time": "2020-12-05T21:02:36.589Z"
    }
   },
   "outputs": [],
   "source": [
    "train.describe()"
   ]
  },
  {
   "cell_type": "code",
   "execution_count": null,
   "metadata": {
    "ExecuteTime": {
     "start_time": "2020-12-05T21:02:36.590Z"
    }
   },
   "outputs": [],
   "source": [
    "response_col = train.col_names[-1]\n",
    "train[response_col] = train[response_col].asfactor()"
   ]
  },
  {
   "cell_type": "code",
   "execution_count": null,
   "metadata": {
    "ExecuteTime": {
     "start_time": "2020-12-05T21:02:36.613Z"
    }
   },
   "outputs": [],
   "source": [
    "train.describe()"
   ]
  },
  {
   "cell_type": "code",
   "execution_count": null,
   "metadata": {
    "ExecuteTime": {
     "start_time": "2020-12-05T21:02:36.614Z"
    }
   },
   "outputs": [],
   "source": [
    "predictors = train.col_names\n",
    "predictors.remove(response_col)"
   ]
  },
  {
   "cell_type": "code",
   "execution_count": null,
   "metadata": {
    "ExecuteTime": {
     "start_time": "2020-12-05T21:02:36.617Z"
    }
   },
   "outputs": [],
   "source": [
    "from h2o.automl import H2OAutoML\n",
    "model_automl = H2OAutoML(max_models=max_models, seed=seed, nfolds=nfolds) # seed : Set a seed for reproducibility\n",
    "model_automl.train(x=predictors,\n",
    "                   y=response_col,\n",
    "                   training_frame=train)"
   ]
  },
  {
   "cell_type": "code",
   "execution_count": null,
   "metadata": {
    "ExecuteTime": {
     "start_time": "2020-12-05T21:02:36.618Z"
    }
   },
   "outputs": [],
   "source": [
    "model_automl.leaderboard"
   ]
  },
  {
   "cell_type": "code",
   "execution_count": null,
   "metadata": {
    "ExecuteTime": {
     "start_time": "2020-12-05T21:02:36.619Z"
    }
   },
   "outputs": [],
   "source": [
    "ss.stop()"
   ]
  },
  {
   "cell_type": "code",
   "execution_count": null,
   "metadata": {},
   "outputs": [],
   "source": []
  }
 ],
 "metadata": {
  "kernelspec": {
   "display_name": "Python 3",
   "language": "python",
   "name": "python3"
  },
  "language_info": {
   "codemirror_mode": {
    "name": "ipython",
    "version": 3
   },
   "file_extension": ".py",
   "mimetype": "text/x-python",
   "name": "python",
   "nbconvert_exporter": "python",
   "pygments_lexer": "ipython3",
   "version": "3.7.7"
  }
 },
 "nbformat": 4,
 "nbformat_minor": 4
}
