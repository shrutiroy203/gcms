{
 "cells": [
  {
   "cell_type": "code",
   "execution_count": 2,
   "metadata": {
    "ExecuteTime": {
     "end_time": "2020-11-29T11:54:53.299283Z",
     "start_time": "2020-11-29T11:54:53.287205Z"
    }
   },
   "outputs": [],
   "source": [
    "import xlrd\n",
    "import re"
   ]
  },
  {
   "cell_type": "code",
   "execution_count": 3,
   "metadata": {
    "ExecuteTime": {
     "end_time": "2020-11-29T11:54:54.830478Z",
     "start_time": "2020-11-29T11:54:54.827335Z"
    }
   },
   "outputs": [],
   "source": [
    "from os import listdir\n",
    "from os.path import isfile, join\n",
    "from datetime import time\n",
    "import datetime"
   ]
  },
  {
   "cell_type": "code",
   "execution_count": 4,
   "metadata": {
    "ExecuteTime": {
     "end_time": "2020-11-29T11:54:56.960557Z",
     "start_time": "2020-11-29T11:54:56.957438Z"
    }
   },
   "outputs": [],
   "source": [
    "path = \"Data/\"\n",
    "file_names = [f for f in listdir(path) if isfile(join(path, f)) and (f.startswith('T_') or f.startswith('T-') )]"
   ]
  },
  {
   "cell_type": "markdown",
   "metadata": {},
   "source": [
    "## Write Meal Time"
   ]
  },
  {
   "cell_type": "code",
   "execution_count": 7,
   "metadata": {
    "ExecuteTime": {
     "end_time": "2020-11-29T11:56:37.995076Z",
     "start_time": "2020-11-29T11:56:37.991475Z"
    }
   },
   "outputs": [],
   "source": [
    "eating_string = ['lunch', 'suppl', 'dinner', 'ipen', 'breakfast', 'b-fast','hpen','h-pen']\n",
    "#non_eating_string = ['fasting', 'bg', 'exer']\n",
    "mealtime_file = open(\"meal_time.csv\", \"w\")"
   ]
  },
  {
   "cell_type": "code",
   "execution_count": 5,
   "metadata": {
    "ExecuteTime": {
     "end_time": "2020-10-26T08:03:08.064813Z",
     "start_time": "2020-10-26T08:03:01.634699Z"
    }
   },
   "outputs": [],
   "source": [
    "for file_name in file_names:\n",
    "    file = xlrd.open_workbook('Data/'+ file_name) \n",
    "    id = re.match('T[_,-][0-9]+', file_name)[0]\n",
    "\n",
    "    sheet_names = file.sheet_names()\n",
    "    data = file.sheet_by_name(sheet_names[0])\n",
    "    for i in range(0, len(data.row(0))):\n",
    "        if('glucose' in data.row(0)[i].value.lower()):\n",
    "            index = i + 1\n",
    "            break\n",
    "    \n",
    "    for row in range(0, data.nrows):\n",
    "        for pattern in eating_string:\n",
    "            if(not isinstance(data.cell(row, index).value, float) and data.cell(row, index).value.lower().find(pattern) != -1):\n",
    "                date_values = xlrd.xldate_as_tuple(data.cell(row, 2).value, file.datemode)\n",
    "                time_value = time(*date_values[3:])\n",
    "                # id, eating_string, time_elapsed, row (starts from 0)\n",
    "                mealtime_file.write(\"{},{},{},{}\\n\".format(id, pattern, time_value, row))\n",
    "                "
   ]
  },
  {
   "cell_type": "code",
   "execution_count": 6,
   "metadata": {
    "ExecuteTime": {
     "end_time": "2020-10-26T08:03:08.069295Z",
     "start_time": "2020-10-26T08:03:08.066193Z"
    }
   },
   "outputs": [],
   "source": [
    "mealtime_file.close()"
   ]
  },
  {
   "cell_type": "markdown",
   "metadata": {},
   "source": [
    "## Merge and Write User CGMS Readings"
   ]
  },
  {
   "cell_type": "code",
   "execution_count": 5,
   "metadata": {
    "ExecuteTime": {
     "end_time": "2020-11-29T11:55:08.408252Z",
     "start_time": "2020-11-29T11:55:08.405983Z"
    }
   },
   "outputs": [],
   "source": [
    "cgms_file = open(\"cgms.csv\", \"w\")"
   ]
  },
  {
   "cell_type": "code",
   "execution_count": 8,
   "metadata": {
    "ExecuteTime": {
     "end_time": "2020-11-29T11:57:30.016129Z",
     "start_time": "2020-11-29T11:57:22.382151Z"
    }
   },
   "outputs": [
    {
     "name": "stdout",
     "output_type": "stream",
     "text": [
      "T-06\n",
      "T-06\n",
      "T-05\n",
      "T-07\n",
      "T-07\n",
      "T-02\n",
      "T_09\n",
      "T-09\n",
      "T-04\n",
      "T_08\n",
      "T-03\n",
      "T-01\n",
      "T_01\n",
      "T-04\n",
      "T-05\n",
      "T-02\n",
      "T_08\n"
     ]
    }
   ],
   "source": [
    "for file_name in file_names:\n",
    "    file = xlrd.open_workbook('Data/' + file_name)\n",
    "    id = re.match('T[_,-][0-9]+', file_name)[0]\n",
    "    print(id)\n",
    "    \n",
    "    sheet_names = file.sheet_names()\n",
    "    data = file.sheet_by_name(sheet_names[0])\n",
    "    for row in range(1, data.nrows):\n",
    "        if(data.cell(row, 2).value == ''):\n",
    "            break\n",
    "        date_values = xlrd.xldate_as_tuple(\n",
    "            data.cell(row, 2).value, file.datemode)\n",
    "        time_value = time(*date_values[3:])\n",
    "\n",
    "        Flow = data.cell(row, 3).value\n",
    "        CO2_Outlet = data.cell(row, 4).value\n",
    "        O2_Outlet = data.cell(row, 5).value\n",
    "        CO2_Inlet = data.cell(row, 6).value\n",
    "        O2_Inlet = data.cell(row, 7).value\n",
    "        VCO2 = data.cell(row, 8).value\n",
    "        VO2 = data.cell(row, 9).value\n",
    "        RQ = data.cell(row, 10).value\n",
    "        EE = data.cell(row, 11).value\n",
    "        Heart_Rate = data.cell(row, 12).value\n",
    "        Respiratory_Rate = data.cell(row, 13).value\n",
    "        T_Core = data.cell(row, 14).value\n",
    "        T_Skin = data.cell(row, 15).value\n",
    "        Glucose = data.cell(row, 16).value\n",
    "\n",
    "        cgms_file.write(\"{},{},{},{}, {},{},{},{}, {},{},{},{}, {},{},{},{} \\n\"\n",
    "                        .format(id, time_value, Flow, CO2_Outlet,\n",
    "                                O2_Outlet, CO2_Inlet, O2_Inlet, VCO2,\n",
    "                                VO2, RQ, EE, Heart_Rate,\n",
    "                                Respiratory_Rate, T_Core, T_Skin, Glucose\n",
    "                                ))"
   ]
  },
  {
   "cell_type": "code",
   "execution_count": 9,
   "metadata": {
    "ExecuteTime": {
     "end_time": "2020-11-29T11:57:31.452832Z",
     "start_time": "2020-11-29T11:57:31.449765Z"
    }
   },
   "outputs": [],
   "source": [
    "cgms_file.close()"
   ]
  },
  {
   "cell_type": "code",
   "execution_count": null,
   "metadata": {},
   "outputs": [],
   "source": []
  }
 ],
 "metadata": {
  "kernelspec": {
   "display_name": "Python 3",
   "language": "python",
   "name": "python3"
  },
  "language_info": {
   "codemirror_mode": {
    "name": "ipython",
    "version": 3
   },
   "file_extension": ".py",
   "mimetype": "text/x-python",
   "name": "python",
   "nbconvert_exporter": "python",
   "pygments_lexer": "ipython3",
   "version": "3.7.7"
  }
 },
 "nbformat": 4,
 "nbformat_minor": 4
}
