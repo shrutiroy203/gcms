{
 "cells": [
  {
   "cell_type": "code",
   "execution_count": 14,
   "metadata": {
    "ExecuteTime": {
     "end_time": "2020-12-02T17:55:39.861930Z",
     "start_time": "2020-12-02T17:55:39.860080Z"
    }
   },
   "outputs": [],
   "source": [
    "import xlrd\n",
    "import re"
   ]
  },
  {
   "cell_type": "code",
   "execution_count": 15,
   "metadata": {
    "ExecuteTime": {
     "end_time": "2020-12-02T17:55:40.095524Z",
     "start_time": "2020-12-02T17:55:40.093217Z"
    }
   },
   "outputs": [],
   "source": [
    "from os import listdir\n",
    "from os.path import isfile, join\n",
    "from datetime import time\n",
    "import datetime"
   ]
  },
  {
   "cell_type": "code",
   "execution_count": 16,
   "metadata": {
    "ExecuteTime": {
     "end_time": "2020-12-02T17:55:40.314756Z",
     "start_time": "2020-12-02T17:55:40.311179Z"
    }
   },
   "outputs": [],
   "source": [
    "path = \"Data/\"\n",
    "file_names = [f for f in listdir(path) if isfile(join(path, f)) and (f.startswith('T_') or f.startswith('T-') )]"
   ]
  },
  {
   "cell_type": "markdown",
   "metadata": {},
   "source": [
    "## Write Meal Time"
   ]
  },
  {
   "cell_type": "code",
   "execution_count": 17,
   "metadata": {
    "ExecuteTime": {
     "end_time": "2020-12-02T17:55:40.846208Z",
     "start_time": "2020-12-02T17:55:40.841159Z"
    }
   },
   "outputs": [
    {
     "data": {
      "text/plain": [
       "26"
      ]
     },
     "execution_count": 17,
     "metadata": {},
     "output_type": "execute_result"
    }
   ],
   "source": [
    "eating_string = ['lunch', 'suppl', 'dinner', 'ipen', 'breakfast', 'b-fast','hpen','h-pen']\n",
    "#non_eating_string = ['fasting', 'bg', 'exer']\n",
    "mealtime_file = open(\"meal_time.csv\", \"w\")\n",
    "mealtime_file.write(\"id,pattern,time_value,row\\n\")"
   ]
  },
  {
   "cell_type": "code",
   "execution_count": 18,
   "metadata": {
    "ExecuteTime": {
     "end_time": "2020-12-02T17:55:48.762388Z",
     "start_time": "2020-12-02T17:55:41.738048Z"
    }
   },
   "outputs": [
    {
     "name": "stdout",
     "output_type": "stream",
     "text": [
      "T-04_IPEN_Run_3200_All.xlsx\n",
      "(0, 0, 0, 11, 15, 55)\n",
      "(0, 0, 0, 13, 4, 47)\n",
      "(0, 0, 0, 18, 9, 12)\n",
      "(0, 0, 0, 7, 45, 41)\n",
      "(0, 0, 0, 11, 0, 14)\n",
      "(0, 0, 0, 13, 10, 16)\n",
      "(0, 0, 0, 13, 11, 16)\n",
      "(0, 0, 0, 18, 15, 41)\n",
      "T-05_IPEN_Run_3198_Full.xlsx\n",
      "(0, 0, 0, 12, 41, 57)\n",
      "(0, 0, 0, 14, 46, 57)\n",
      "(0, 0, 0, 18, 46, 51)\n",
      "(0, 0, 0, 7, 27, 53)\n",
      "(0, 0, 0, 13, 14, 39)\n",
      "(0, 0, 0, 13, 15, 39)\n",
      "(0, 0, 0, 18, 35, 11)\n",
      "T-07_3hPEN_Run_3203_All.xlsx\n",
      "(0, 0, 0, 11, 17, 2)\n",
      "(0, 0, 0, 15, 55, 15)\n",
      "(0, 0, 0, 18, 5, 16)\n",
      "(0, 0, 0, 7, 42, 46)\n",
      "(0, 0, 0, 11, 3, 21)\n",
      "(0, 0, 0, 15, 50, 38)\n",
      "(0, 0, 0, 15, 51, 39)\n",
      "(0, 0, 0, 18, 0, 40)\n",
      "T_09_3hPEN_Run_3209.xlsx\n",
      "(0, 0, 0, 7, 40, 20)\n",
      "(0, 0, 0, 11, 2, 56)\n",
      "(0, 0, 0, 16, 3, 19)\n",
      "(0, 0, 0, 18, 8, 19)\n",
      "(0, 0, 0, 7, 50, 50)\n",
      "(0, 0, 0, 10, 59, 20)\n",
      "(0, 0, 0, 15, 47, 37)\n",
      "(0, 0, 0, 18, 0, 41)\n",
      "T-06_3hPEN_Run_3201_All.xlsx\n",
      "(0, 0, 0, 11, 26, 0)\n",
      "(0, 0, 0, 16, 8, 15)\n",
      "(0, 0, 0, 18, 20, 17)\n",
      "(0, 0, 0, 11, 20, 23)\n",
      "(0, 0, 0, 16, 45, 58)\n",
      "(0, 0, 0, 16, 46, 59)\n",
      "(0, 0, 0, 18, 40, 53)\n",
      "T-07_IPEN_Run_3206_All.xlsx\n",
      "(0, 0, 0, 11, 5, 54)\n",
      "(0, 0, 0, 18, 0, 11)\n",
      "(0, 0, 0, 7, 55, 49)\n",
      "(0, 0, 0, 11, 10, 21)\n",
      "(0, 0, 0, 13, 50, 38)\n",
      "(0, 0, 0, 18, 8, 41)\n",
      "T_08_IPEN_Run_3208_All.xlsx\n",
      "(0, 0, 0, 8, 10, 23)\n",
      "(0, 0, 0, 11, 7, 47)\n",
      "(0, 0, 0, 13, 0, 41)\n",
      "(0, 0, 0, 18, 0, 3)\n",
      "(0, 0, 0, 7, 34, 31)\n",
      "(0, 0, 0, 11, 6, 12)\n",
      "(0, 0, 0, 12, 49, 1)\n",
      "(0, 0, 0, 18, 0, 29)\n",
      "T-01_3h_PEN_Run_3192_All.xlsx\n",
      "(0, 0, 0, 11, 40, 34)\n",
      "(0, 0, 0, 16, 44, 59)\n",
      "(0, 0, 0, 18, 58, 2)\n",
      "(0, 0, 0, 7, 32, 1)\n",
      "(0, 0, 0, 11, 30, 55)\n",
      "(0, 0, 0, 16, 11, 8)\n",
      "(0, 0, 0, 18, 7, 4)\n",
      "T-09_IPEN_Run_3212.xlsx\n",
      "(0, 0, 0, 7, 43, 55)\n",
      "(0, 0, 0, 11, 0, 29)\n",
      "(0, 0, 0, 12, 51, 22)\n",
      "(0, 0, 0, 17, 55, 47)\n",
      "(0, 0, 0, 7, 51, 25)\n",
      "(0, 0, 0, 11, 2, 56)\n",
      "(0, 0, 0, 13, 10, 57)\n",
      "(0, 0, 0, 18, 5, 17)\n",
      "T-02_IPEN_Run_3193_All.xlsx\n",
      "(0, 0, 0, 12, 6, 29)\n",
      "(0, 0, 0, 15, 15, 59)\n",
      "(0, 0, 0, 18, 6, 20)\n",
      "(0, 0, 0, 8, 4, 59)\n",
      "(0, 0, 0, 11, 43, 43)\n",
      "(0, 0, 0, 15, 0, 17)\n",
      "(0, 0, 0, 15, 1, 18)\n",
      "T-03_IPEN_Run_3194_All.xlsx\n",
      "(0, 0, 0, 11, 13, 15)\n",
      "(0, 0, 0, 13, 2, 7)\n",
      "(0, 0, 0, 18, 8, 33)\n",
      "(0, 0, 0, 7, 19, 50)\n",
      "(0, 0, 0, 12, 50, 27)\n",
      "(0, 0, 0, 12, 51, 28)\n",
      "(0, 0, 0, 18, 0, 55)\n",
      "T_01_IPEN_Run_3191_All.xlsx\n",
      "(0, 0, 0, 12, 6, 29)\n",
      "(0, 0, 0, 15, 0, 52)\n",
      "(0, 0, 0, 18, 0, 17)\n",
      "(0, 0, 0, 7, 25, 41)\n",
      "(0, 0, 0, 11, 18, 31)\n",
      "(0, 0, 0, 13, 33, 36)\n",
      "(0, 0, 0, 13, 34, 36)\n",
      "(0, 0, 0, 18, 20, 53)\n",
      "T-06_IPEN_Run_3205_All.xlsx\n",
      "(0, 0, 0, 11, 0, 51)\n",
      "(0, 0, 0, 13, 0, 48)\n",
      "(0, 0, 0, 18, 0, 11)\n",
      "(0, 0, 0, 8, 0, 51)\n",
      "(0, 0, 0, 11, 10, 21)\n",
      "(0, 0, 0, 13, 45, 35)\n",
      "(0, 0, 0, 13, 46, 36)\n",
      "(0, 0, 0, 18, 8, 41)\n",
      "T-04_3h_PEN_Run_3197_All (2).xlsx\n",
      "(0, 0, 0, 11, 42, 29)\n",
      "(0, 0, 0, 16, 26, 44)\n",
      "(0, 0, 0, 18, 46, 51)\n",
      "(0, 0, 0, 8, 0, 9)\n",
      "(0, 0, 0, 12, 0, 3)\n",
      "(0, 0, 0, 16, 40, 16)\n",
      "(0, 0, 0, 16, 41, 17)\n",
      "(0, 0, 0, 19, 0, 23)\n",
      "T-05_3hPEN_Run_3199_All.xlsx\n",
      "(0, 0, 0, 13, 15, 52)\n",
      "(0, 0, 0, 18, 22, 18)\n",
      "(0, 0, 0, 20, 25, 17)\n",
      "(0, 0, 0, 7, 8, 23)\n",
      "(0, 0, 0, 12, 0, 42)\n",
      "(0, 0, 0, 16, 55, 3)\n",
      "(0, 0, 0, 18, 55, 0)\n",
      "T-02_3hPEN_Run_3195_Full.xlsx\n",
      "(0, 0, 0, 11, 0, 39)\n",
      "(0, 0, 0, 16, 0, 2)\n",
      "(0, 0, 0, 7, 35, 27)\n",
      "(0, 0, 0, 11, 0, 4)\n",
      "(0, 0, 0, 15, 57, 26)\n",
      "(0, 0, 0, 15, 58, 26)\n",
      "T_08_3hPEN_Run_3208_All.xlsx\n",
      "(0, 0, 0, 11, 3, 31)\n",
      "(0, 0, 0, 15, 57, 51)\n",
      "(0, 0, 0, 18, 0, 49)\n",
      "(0, 0, 0, 7, 25, 12)\n",
      "(0, 0, 0, 16, 2, 19)\n",
      "(0, 0, 0, 18, 10, 20)\n"
     ]
    }
   ],
   "source": [
    "import datetime\n",
    "\n",
    "for file_name in file_names:\n",
    "    print(file_name)\n",
    "    \n",
    "    file = xlrd.open_workbook('Data/'+ file_name) \n",
    "    id = re.match('T[_,-][0-9]+[0-9,_,-,a-z,A-Z]*PEN_Run', file_name)[0]\n",
    "\n",
    "    sheet_names = file.sheet_names()\n",
    "    data = file.sheet_by_name(sheet_names[0])\n",
    "    for i in range(0, len(data.row(0))):\n",
    "        if('glucose' in data.row(0)[i].value.lower()):\n",
    "            index = i + 1\n",
    "            break\n",
    "    \n",
    "    for row in range(0, data.nrows):\n",
    "        for pattern in eating_string:\n",
    "            if(not isinstance(data.cell(row, index).value, float) and data.cell(row, index).value.lower().find(pattern) != -1):\n",
    "                date_values = xlrd.xldate_as_tuple(data.cell(row, 0).value, file.datemode)\n",
    "                date_value = datetime.datetime(*date_values)\n",
    "\n",
    "                \n",
    "                time_values = xlrd.xldate_as_tuple(data.cell(row, 1).value, file.datemode)\n",
    "                print(time_values)\n",
    "                time_value =  time(*time_values[3:])\n",
    "                \n",
    "                datetime_value = datetime.datetime.combine(date_value, time_value)\n",
    "                # id, eating_string, datetime_value, row (starts from 0)\n",
    "                mealtime_file.write(\"{},{},{},{}\\n\".format(id, pattern, datetime_value, row))\n",
    "                "
   ]
  },
  {
   "cell_type": "code",
   "execution_count": 19,
   "metadata": {
    "ExecuteTime": {
     "end_time": "2020-12-02T17:56:08.481724Z",
     "start_time": "2020-12-02T17:56:08.479478Z"
    }
   },
   "outputs": [],
   "source": [
    "mealtime_file.close()"
   ]
  },
  {
   "cell_type": "markdown",
   "metadata": {},
   "source": [
    "## Merge and Write User CGMS Readings"
   ]
  },
  {
   "cell_type": "code",
   "execution_count": 20,
   "metadata": {
    "ExecuteTime": {
     "end_time": "2020-12-02T17:56:09.239899Z",
     "start_time": "2020-12-02T17:56:09.236928Z"
    }
   },
   "outputs": [],
   "source": [
    "cgms_file = open(\"cgms.csv\", \"w\")"
   ]
  },
  {
   "cell_type": "code",
   "execution_count": 21,
   "metadata": {
    "ExecuteTime": {
     "end_time": "2020-12-02T17:56:10.080877Z",
     "start_time": "2020-12-02T17:56:10.077411Z"
    }
   },
   "outputs": [
    {
     "data": {
      "text/plain": [
       "124"
      ]
     },
     "execution_count": 21,
     "metadata": {},
     "output_type": "execute_result"
    }
   ],
   "source": [
    "cgms_file.write(\"id,time_value,Flow,CO2_Outlet,O2_Outlet,CO2_Inlet,O2_Inlet,VCO2,VO2,RQ,EE,Heart_Rate,Respiratory_Rate,T_Core,T_Skin,Glucose\\n\")"
   ]
  },
  {
   "cell_type": "code",
   "execution_count": 22,
   "metadata": {
    "ExecuteTime": {
     "end_time": "2020-12-02T17:56:18.310969Z",
     "start_time": "2020-12-02T17:56:10.827153Z"
    }
   },
   "outputs": [],
   "source": [
    "for file_name in file_names:\n",
    "    file = xlrd.open_workbook('Data/' + file_name)\n",
    "    id = re.match('T[_,-][0-9]+[0-9,_,-,a-z,A-Z]*PEN_Run', file_name)[0]\n",
    "    sheet_names = file.sheet_names()\n",
    "    data = file.sheet_by_name(sheet_names[0])\n",
    "    for row in range(1, data.nrows):\n",
    "        if(data.cell(row, 2).value == ''):\n",
    "            break\n",
    "\n",
    "        date_values = xlrd.xldate_as_tuple(data.cell(row, 0).value, file.datemode)\n",
    "        date_value = datetime.datetime(*date_values)\n",
    "\n",
    "\n",
    "        time_values = xlrd.xldate_as_tuple(data.cell(row, 1).value, file.datemode)\n",
    "        time_value =  time(*time_values[3:])\n",
    "\n",
    "        datetime_value = datetime.datetime.combine(date_value, time_value)\n",
    "                \n",
    "        Flow = data.cell(row, 3).value\n",
    "        CO2_Outlet = data.cell(row, 4).value\n",
    "        O2_Outlet = data.cell(row, 5).value\n",
    "        CO2_Inlet = data.cell(row, 6).value\n",
    "        O2_Inlet = data.cell(row, 7).value\n",
    "        VCO2 = data.cell(row, 8).value\n",
    "        VO2 = data.cell(row, 9).value\n",
    "        RQ = data.cell(row, 10).value\n",
    "        EE = data.cell(row, 11).value\n",
    "        Heart_Rate = data.cell(row, 12).value\n",
    "        Respiratory_Rate = data.cell(row, 13).value\n",
    "        T_Core = data.cell(row, 14).value\n",
    "        T_Skin = data.cell(row, 15).value\n",
    "        Glucose = data.cell(row, 16).value\n",
    "\n",
    "        cgms_file.write(\"{},{},{},{}, {},{},{},{}, {},{},{},{}, {},{},{},{} \\n\"\n",
    "                        .format(id, datetime_value, Flow, CO2_Outlet,\n",
    "                                O2_Outlet, CO2_Inlet, O2_Inlet, VCO2,\n",
    "                                VO2, RQ, EE, Heart_Rate,\n",
    "                                Respiratory_Rate, T_Core, T_Skin, Glucose\n",
    "                                ))"
   ]
  },
  {
   "cell_type": "code",
   "execution_count": 23,
   "metadata": {
    "ExecuteTime": {
     "end_time": "2020-12-02T17:56:21.452284Z",
     "start_time": "2020-12-02T17:56:21.449155Z"
    }
   },
   "outputs": [],
   "source": [
    "cgms_file.close()"
   ]
  },
  {
   "cell_type": "code",
   "execution_count": null,
   "metadata": {},
   "outputs": [],
   "source": []
  }
 ],
 "metadata": {
  "kernelspec": {
   "display_name": "Python 3",
   "language": "python",
   "name": "python3"
  },
  "language_info": {
   "codemirror_mode": {
    "name": "ipython",
    "version": 3
   },
   "file_extension": ".py",
   "mimetype": "text/x-python",
   "name": "python",
   "nbconvert_exporter": "python",
   "pygments_lexer": "ipython3",
   "version": "3.7.7"
  }
 },
 "nbformat": 4,
 "nbformat_minor": 4
}
