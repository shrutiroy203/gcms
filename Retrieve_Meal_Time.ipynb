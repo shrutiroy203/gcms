{
 "cells": [
  {
   "cell_type": "code",
   "execution_count": 13,
   "metadata": {
    "ExecuteTime": {
     "end_time": "2020-12-02T02:00:42.916994Z",
     "start_time": "2020-12-02T02:00:42.914944Z"
    }
   },
   "outputs": [],
   "source": [
    "import xlrd\n",
    "import re"
   ]
  },
  {
   "cell_type": "code",
   "execution_count": 19,
   "metadata": {
    "ExecuteTime": {
     "end_time": "2020-12-02T02:02:23.863377Z",
     "start_time": "2020-12-02T02:02:23.860837Z"
    }
   },
   "outputs": [],
   "source": [
    "from os import listdir\n",
    "from os.path import isfile, join\n",
    "from datetime import time\n",
    "import datetime"
   ]
  },
  {
   "cell_type": "code",
   "execution_count": 20,
   "metadata": {
    "ExecuteTime": {
     "end_time": "2020-12-02T02:02:24.820084Z",
     "start_time": "2020-12-02T02:02:24.815851Z"
    }
   },
   "outputs": [],
   "source": [
    "path = \"Data/\"\n",
    "file_names = [f for f in listdir(path) if isfile(join(path, f)) and (f.startswith('T_') or f.startswith('T-') )]"
   ]
  },
  {
   "cell_type": "markdown",
   "metadata": {},
   "source": [
    "## Write Meal Time"
   ]
  },
  {
   "cell_type": "code",
   "execution_count": 21,
   "metadata": {
    "ExecuteTime": {
     "end_time": "2020-12-02T02:02:25.543237Z",
     "start_time": "2020-12-02T02:02:25.539009Z"
    }
   },
   "outputs": [
    {
     "data": {
      "text/plain": [
       "26"
      ]
     },
     "execution_count": 21,
     "metadata": {},
     "output_type": "execute_result"
    }
   ],
   "source": [
    "eating_string = ['lunch', 'suppl', 'dinner', 'ipen', 'breakfast', 'b-fast','hpen','h-pen']\n",
    "#non_eating_string = ['fasting', 'bg', 'exer']\n",
    "mealtime_file = open(\"meal_time.csv\", \"w\")\n",
    "mealtime_file.write(\"id,pattern,time_value,row\\n\")"
   ]
  },
  {
   "cell_type": "code",
   "execution_count": 22,
   "metadata": {
    "ExecuteTime": {
     "end_time": "2020-12-02T02:02:33.191750Z",
     "start_time": "2020-12-02T02:02:25.965495Z"
    }
   },
   "outputs": [
    {
     "name": "stdout",
     "output_type": "stream",
     "text": [
      "T-04_IPEN_Run_3200_All.xlsx\n",
      "03:31:00\n",
      "05:20:00\n",
      "10:24:00\n",
      "00:01:00\n",
      "03:15:00\n",
      "05:26:00\n",
      "05:27:00\n",
      "10:31:00\n",
      "T-05_IPEN_Run_3198_Full.xlsx\n",
      "03:10:00\n",
      "05:15:00\n",
      "09:15:00\n",
      "21:56:00\n",
      "03:43:00\n",
      "03:44:00\n",
      "09:03:00\n",
      "T-07_3hPEN_Run_3203_All.xlsx\n",
      "02:19:00\n",
      "06:57:00\n",
      "09:07:00\n",
      "22:44:00\n",
      "02:05:00\n",
      "06:52:00\n",
      "06:53:00\n",
      "09:02:00\n",
      "T_09_3hPEN_Run_3209.xlsx\n",
      "00:08:00\n",
      "03:30:00\n",
      "08:31:00\n",
      "10:36:00\n",
      "00:18:00\n",
      "03:27:00\n",
      "08:15:00\n",
      "10:28:00\n",
      "T-06_3hPEN_Run_3201_All.xlsx\n",
      "03:31:00\n",
      "08:13:00\n",
      "10:25:00\n",
      "03:26:00\n",
      "08:51:00\n",
      "08:52:00\n",
      "10:46:00\n",
      "T-07_IPEN_Run_3206_All.xlsx\n",
      "01:54:00\n",
      "08:49:00\n",
      "22:44:00\n",
      "01:59:00\n",
      "04:39:00\n",
      "08:57:00\n",
      "T_08_IPEN_Run_3208_All.xlsx\n",
      "00:09:00\n",
      "03:06:00\n",
      "04:59:00\n",
      "09:58:00\n",
      "23:33:00\n",
      "03:04:00\n",
      "04:47:00\n",
      "09:59:00\n",
      "T-01_3h_PEN_Run_3192_All.xlsx\n",
      "02:44:00\n",
      "07:48:00\n",
      "10:01:00\n",
      "22:35:00\n",
      "02:34:00\n",
      "07:14:00\n",
      "09:10:00\n",
      "T-09_IPEN_Run_3212.xlsx\n",
      "00:16:00\n",
      "03:32:00\n",
      "05:23:00\n",
      "10:27:00\n",
      "00:23:00\n",
      "03:35:00\n",
      "05:43:00\n",
      "10:37:00\n",
      "T-02_IPEN_Run_3193_All.xlsx\n",
      "03:04:00\n",
      "06:13:00\n",
      "09:04:00\n",
      "23:02:00\n",
      "02:41:00\n",
      "05:58:00\n",
      "05:59:00\n",
      "T-03_IPEN_Run_3194_All.xlsx\n",
      "02:32:00\n",
      "04:21:00\n",
      "09:27:00\n",
      "22:38:00\n",
      "04:09:00\n",
      "04:10:00\n",
      "09:19:00\n",
      "T_01_IPEN_Run_3191_All.xlsx\n",
      "03:14:00\n",
      "06:08:00\n",
      "09:08:00\n",
      "22:33:00\n",
      "02:26:00\n",
      "04:41:00\n",
      "04:42:00\n",
      "09:28:00\n",
      "T-06_IPEN_Run_3205_All.xlsx\n",
      "01:49:00\n",
      "03:49:00\n",
      "08:49:00\n",
      "22:49:00\n",
      "01:59:00\n",
      "04:34:00\n",
      "04:35:00\n",
      "08:57:00\n",
      "T-04_3h_PEN_Run_3197_All (2).xlsx\n",
      "03:01:00\n",
      "07:45:00\n",
      "10:05:00\n",
      "23:19:00\n",
      "03:19:00\n",
      "07:59:00\n",
      "08:00:00\n",
      "10:19:00\n",
      "T-05_3hPEN_Run_3199_All.xlsx\n",
      "03:00:00\n",
      "08:06:00\n",
      "10:09:00\n",
      "20:52:00\n",
      "01:45:00\n",
      "06:39:00\n",
      "08:39:00\n",
      "T-02_3hPEN_Run_3195_Full.xlsx\n",
      "02:51:00\n",
      "07:50:00\n",
      "23:26:00\n",
      "02:50:00\n",
      "07:48:00\n",
      "07:49:00\n",
      "T_08_3hPEN_Run_3208_All.xlsx\n",
      "02:12:00\n",
      "07:06:00\n",
      "09:09:00\n",
      "22:33:00\n",
      "07:10:00\n",
      "09:18:00\n"
     ]
    }
   ],
   "source": [
    "for file_name in file_names:\n",
    "    print(file_name)\n",
    "    \n",
    "    file = xlrd.open_workbook('Data/'+ file_name) \n",
    "    id = re.match('T[_,-][0-9]+[0-9,_,-,a-z,A-Z]*PEN_Run', file_name)[0]\n",
    "\n",
    "    sheet_names = file.sheet_names()\n",
    "    data = file.sheet_by_name(sheet_names[0])\n",
    "    for i in range(0, len(data.row(0))):\n",
    "        if('glucose' in data.row(0)[i].value.lower()):\n",
    "            index = i + 1\n",
    "            break\n",
    "    \n",
    "    for row in range(0, data.nrows):\n",
    "        for pattern in eating_string:\n",
    "            if(not isinstance(data.cell(row, index).value, float) and data.cell(row, index).value.lower().find(pattern) != -1):\n",
    "                date_values = xlrd.xldate_as_tuple(data.cell(row, 2).value, file.datemode)\n",
    "                time_value = time(*date_values[3:])\n",
    "                print(time_value)\n",
    "                # id, eating_string, time_elapsed, row (starts from 0)\n",
    "                mealtime_file.write(\"{},{},{},{}\\n\".format(id, pattern, time_value, row))\n",
    "                "
   ]
  },
  {
   "cell_type": "code",
   "execution_count": 23,
   "metadata": {
    "ExecuteTime": {
     "end_time": "2020-12-02T02:02:41.481536Z",
     "start_time": "2020-12-02T02:02:41.479316Z"
    }
   },
   "outputs": [],
   "source": [
    "mealtime_file.close()"
   ]
  },
  {
   "cell_type": "markdown",
   "metadata": {},
   "source": [
    "## Merge and Write User CGMS Readings"
   ]
  },
  {
   "cell_type": "code",
   "execution_count": 24,
   "metadata": {
    "ExecuteTime": {
     "end_time": "2020-12-02T02:02:42.287507Z",
     "start_time": "2020-12-02T02:02:42.282364Z"
    }
   },
   "outputs": [],
   "source": [
    "cgms_file = open(\"cgms.csv\", \"w\")"
   ]
  },
  {
   "cell_type": "code",
   "execution_count": 25,
   "metadata": {
    "ExecuteTime": {
     "end_time": "2020-12-02T02:02:42.669982Z",
     "start_time": "2020-12-02T02:02:42.666826Z"
    }
   },
   "outputs": [
    {
     "data": {
      "text/plain": [
       "124"
      ]
     },
     "execution_count": 25,
     "metadata": {},
     "output_type": "execute_result"
    }
   ],
   "source": [
    "cgms_file.write(\"id,time_value,Flow,CO2_Outlet,O2_Outlet,CO2_Inlet,O2_Inlet,VCO2,VO2,RQ,EE,Heart_Rate,Respiratory_Rate,T_Core,T_Skin,Glucose\\n\")"
   ]
  },
  {
   "cell_type": "code",
   "execution_count": 26,
   "metadata": {
    "ExecuteTime": {
     "end_time": "2020-12-02T02:02:50.475730Z",
     "start_time": "2020-12-02T02:02:43.071830Z"
    }
   },
   "outputs": [],
   "source": [
    "for file_name in file_names:\n",
    "    file = xlrd.open_workbook('Data/' + file_name)\n",
    "    id = re.match('T[_,-][0-9]+[0-9,_,-,a-z,A-Z]*PEN_Run', file_name)[0]\n",
    "    sheet_names = file.sheet_names()\n",
    "    data = file.sheet_by_name(sheet_names[0])\n",
    "    for row in range(1, data.nrows):\n",
    "        if(data.cell(row, 2).value == ''):\n",
    "            break\n",
    "        date_values = xlrd.xldate_as_tuple(\n",
    "            data.cell(row, 2).value, file.datemode)\n",
    "        time_value = time(*date_values[3:])\n",
    "\n",
    "        Flow = data.cell(row, 3).value\n",
    "        CO2_Outlet = data.cell(row, 4).value\n",
    "        O2_Outlet = data.cell(row, 5).value\n",
    "        CO2_Inlet = data.cell(row, 6).value\n",
    "        O2_Inlet = data.cell(row, 7).value\n",
    "        VCO2 = data.cell(row, 8).value\n",
    "        VO2 = data.cell(row, 9).value\n",
    "        RQ = data.cell(row, 10).value\n",
    "        EE = data.cell(row, 11).value\n",
    "        Heart_Rate = data.cell(row, 12).value\n",
    "        Respiratory_Rate = data.cell(row, 13).value\n",
    "        T_Core = data.cell(row, 14).value\n",
    "        T_Skin = data.cell(row, 15).value\n",
    "        Glucose = data.cell(row, 16).value\n",
    "\n",
    "        cgms_file.write(\"{},{},{},{}, {},{},{},{}, {},{},{},{}, {},{},{},{} \\n\"\n",
    "                        .format(id, time_value, Flow, CO2_Outlet,\n",
    "                                O2_Outlet, CO2_Inlet, O2_Inlet, VCO2,\n",
    "                                VO2, RQ, EE, Heart_Rate,\n",
    "                                Respiratory_Rate, T_Core, T_Skin, Glucose\n",
    "                                ))"
   ]
  },
  {
   "cell_type": "code",
   "execution_count": 27,
   "metadata": {
    "ExecuteTime": {
     "end_time": "2020-12-02T02:02:56.390436Z",
     "start_time": "2020-12-02T02:02:56.387735Z"
    }
   },
   "outputs": [],
   "source": [
    "cgms_file.close()"
   ]
  },
  {
   "cell_type": "code",
   "execution_count": null,
   "metadata": {},
   "outputs": [],
   "source": []
  }
 ],
 "metadata": {
  "kernelspec": {
   "display_name": "Python 3",
   "language": "python",
   "name": "python3"
  },
  "language_info": {
   "codemirror_mode": {
    "name": "ipython",
    "version": 3
   },
   "file_extension": ".py",
   "mimetype": "text/x-python",
   "name": "python",
   "nbconvert_exporter": "python",
   "pygments_lexer": "ipython3",
   "version": "3.7.7"
  }
 },
 "nbformat": 4,
 "nbformat_minor": 4
}
