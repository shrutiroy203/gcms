{
 "cells": [
  {
   "cell_type": "code",
   "execution_count": 4,
   "metadata": {
    "ExecuteTime": {
     "end_time": "2020-10-26T07:32:36.256488Z",
     "start_time": "2020-10-26T07:32:36.254176Z"
    }
   },
   "outputs": [],
   "source": [
    "import xlrd\n",
    "import re"
   ]
  },
  {
   "cell_type": "code",
   "execution_count": 5,
   "metadata": {
    "ExecuteTime": {
     "end_time": "2020-10-26T07:32:36.515920Z",
     "start_time": "2020-10-26T07:32:36.513462Z"
    }
   },
   "outputs": [],
   "source": [
    "from os import listdir\n",
    "from os.path import isfile, join\n",
    "from datetime import time\n",
    "import datetime"
   ]
  },
  {
   "cell_type": "code",
   "execution_count": 6,
   "metadata": {
    "ExecuteTime": {
     "end_time": "2020-10-26T07:32:36.733450Z",
     "start_time": "2020-10-26T07:32:36.730111Z"
    }
   },
   "outputs": [],
   "source": [
    "path = \"Data/\"\n",
    "file_names = [f for f in listdir(path) if isfile(join(path, f)) and (f.startswith('T_') or f.startswith('T-') )]"
   ]
  },
  {
   "cell_type": "code",
   "execution_count": 7,
   "metadata": {
    "ExecuteTime": {
     "end_time": "2020-10-26T07:32:37.722515Z",
     "start_time": "2020-10-26T07:32:37.719750Z"
    }
   },
   "outputs": [],
   "source": [
    "eating_string = ['lunch', 'suppl', 'dinner', 'ipen', 'breakfast', 'b-fast','hpen','h-pen']\n",
    "#non_eating_string = ['fasting', 'bg', 'exer']\n",
    "output_file = open(\"meal_time.csv\", \"a\")"
   ]
  },
  {
   "cell_type": "code",
   "execution_count": 8,
   "metadata": {
    "ExecuteTime": {
     "end_time": "2020-10-26T07:32:58.101887Z",
     "start_time": "2020-10-26T07:32:51.340708Z"
    }
   },
   "outputs": [
    {
     "name": "stdout",
     "output_type": "stream",
     "text": [
      "T-06 3hPEN_Run_3201_All.xlsx\n",
      "T-06\n",
      "T-06-IPEN_Run_3205_All.xlsx\n",
      "T-06\n",
      "T-05_IPENRun_3198_Full.xlsx\n",
      "T-05\n",
      "T-07 IPEN_Run_3206_All.xlsx\n",
      "T-07\n",
      "T-07 3hPEN_3203_All.xlsx\n",
      "T-07\n",
      "T-02_IPENRun_3193_All.xlsx\n",
      "T-02\n",
      "T_09_3hPEN_Run_3209.xlsx\n",
      "T_09\n",
      "T-09-IPEN_3212.xlsx\n",
      "T-09\n",
      "T-04_IPEN_3200_All.xlsx\n",
      "T-04\n",
      "T_08_IPEN_Run_3208_All.xlsx\n",
      "T_08\n",
      "T-03_IPENRun_3194_All.xlsx\n",
      "T-03\n",
      "T-01 3h_PEN Run_3192_All.xlsx\n",
      "T-01\n",
      "T_01 IPEN Run_3191_All.xlsx\n",
      "T_01\n",
      "T-04_3h_PEN_Run_3197_All (2).xlsx\n",
      "T-04\n",
      "T-05 3h-PEN Run_3199_All.xlsx\n",
      "T-05\n",
      "T-02_3hPEN_Run_3195_Full.xlsx\n",
      "T-02\n",
      "T_08_3hPEN_Run_3208_All.xlsx\n",
      "T_08\n"
     ]
    }
   ],
   "source": [
    "for file_name in file_names:\n",
    "    print(file_name)\n",
    "    file = xlrd.open_workbook('Data/'+ file_name) \n",
    "    id = re.match('T[_,-][0-9]+', file_name)[0]#.split('Data/')[1]\n",
    "    print(id)\n",
    "    \n",
    "    sheet_names = file.sheet_names()\n",
    "    data = file.sheet_by_name(sheet_names[0])\n",
    "    for i in range(0, len(data.row(0))):\n",
    "        if('glucose' in data.row(0)[i].value.lower()):\n",
    "            index = i + 1\n",
    "            break\n",
    "    \n",
    "    for row in range(0, data.nrows):\n",
    "        for pattern in eating_string:\n",
    "            if(not isinstance(data.cell(row, index).value, float) and data.cell(row, index).value.lower().find(pattern) != -1):\n",
    "                date_values = xlrd.xldate_as_tuple(data.cell(row, 2).value, file.datemode)\n",
    "                time_value = time(*date_values[3:])\n",
    "                # id, eating_string, time_elapsed, row (starts from 0)\n",
    "                output_file.write(\"{},{},{},{}\\n\".format(id, pattern, time_value, row))\n",
    "                "
   ]
  },
  {
   "cell_type": "code",
   "execution_count": null,
   "metadata": {},
   "outputs": [],
   "source": []
  }
 ],
 "metadata": {
  "kernelspec": {
   "display_name": "Python 3",
   "language": "python",
   "name": "python3"
  },
  "language_info": {
   "codemirror_mode": {
    "name": "ipython",
    "version": 3
   },
   "file_extension": ".py",
   "mimetype": "text/x-python",
   "name": "python",
   "nbconvert_exporter": "python",
   "pygments_lexer": "ipython3",
   "version": "3.8.5"
  }
 },
 "nbformat": 4,
 "nbformat_minor": 4
}
