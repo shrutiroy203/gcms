{
 "cells": [
  {
   "cell_type": "code",
   "execution_count": 1,
   "metadata": {
    "ExecuteTime": {
     "end_time": "2020-10-26T05:30:51.307125Z",
     "start_time": "2020-10-26T05:30:47.481196Z"
    }
   },
   "outputs": [
    {
     "name": "stdout",
     "output_type": "stream",
     "text": [
      "Collecting package metadata (current_repodata.json): done\n",
      "Solving environment: done\n",
      "\n",
      "\n",
      "==> WARNING: A newer version of conda exists. <==\n",
      "  current version: 4.8.4\n",
      "  latest version: 4.9.0\n",
      "\n",
      "Please update conda by running\n",
      "\n",
      "    $ conda update -n base -c defaults conda\n",
      "\n",
      "\n",
      "\n",
      "# All requested packages already installed.\n",
      "\n"
     ]
    }
   ],
   "source": [
    "!conda install -c anaconda xlrd -y"
   ]
  },
  {
   "cell_type": "code",
   "execution_count": 2,
   "metadata": {
    "ExecuteTime": {
     "end_time": "2020-10-26T05:30:51.328442Z",
     "start_time": "2020-10-26T05:30:51.311081Z"
    }
   },
   "outputs": [],
   "source": [
    "import xlrd"
   ]
  },
  {
   "cell_type": "markdown",
   "metadata": {},
   "source": [
    "## data files"
   ]
  },
  {
   "cell_type": "code",
   "execution_count": 3,
   "metadata": {
    "ExecuteTime": {
     "end_time": "2020-10-26T05:30:56.750367Z",
     "start_time": "2020-10-26T05:30:51.330249Z"
    }
   },
   "outputs": [],
   "source": [
    "file = xlrd.open_workbook('Data/T-01 3h_PEN Run_3192_All.xlsx') \n",
    "file = xlrd.open_workbook('Data/T-02_3hPEN_Run_3195_Full.xlsx') \n",
    "file = xlrd.open_workbook('Data/T-02_IPENRun_3193_All.xlsx')\n",
    "file = xlrd.open_workbook('Data/T-03_IPENRun_3194_All.xlsx') \n",
    "file = xlrd.open_workbook('Data/T-04_3h_PEN_Run_3197_All (2).xlsx')\n",
    "file = xlrd.open_workbook('Data/T-04_IPEN_3200_All.xlsx')\n",
    "file = xlrd.open_workbook('Data/T-05 3h-PEN Run_3199_All.xlsx')\n",
    "file = xlrd.open_workbook('Data/T-05_IPENRun_3198_Full.xlsx')\n",
    "file = xlrd.open_workbook('Data/T-06 3hPEN_Run_3201_All.xlsx')\n",
    "file = xlrd.open_workbook('Data/T-07 3hPEN_3203_All.xlsx')\n",
    "file = xlrd.open_workbook('Data/T-07 IPEN_Run_3206_All.xlsx')\n",
    "file = xlrd.open_workbook('Data/T-09-IPEN_3212.xlsx')\n",
    "file = xlrd.open_workbook('Data/T_01 IPEN Run_3191_All.xlsx')\n",
    "file = xlrd.open_workbook('Data/T_08_3hPEN_Run_3208_All.xlsx') # had typo : 3-h-{PEN ==> 3hpen\n",
    "file = xlrd.open_workbook('Data/T_08_IPEN_Run_3208_All.xlsx') \n",
    "file = xlrd.open_workbook('Data/T_09_3hPEN_Run_3209.xlsx') "
   ]
  },
  {
   "cell_type": "markdown",
   "metadata": {},
   "source": [
    "## Retrieve labels used for meal/supplements"
   ]
  },
  {
   "cell_type": "code",
   "execution_count": 4,
   "metadata": {
    "ExecuteTime": {
     "end_time": "2020-10-26T05:30:56.755000Z",
     "start_time": "2020-10-26T05:30:56.752466Z"
    }
   },
   "outputs": [],
   "source": [
    "sheet_names = file.sheet_names()"
   ]
  },
  {
   "cell_type": "code",
   "execution_count": 5,
   "metadata": {
    "ExecuteTime": {
     "end_time": "2020-10-26T05:30:56.759817Z",
     "start_time": "2020-10-26T05:30:56.757607Z"
    }
   },
   "outputs": [],
   "source": [
    "data = file.sheet_by_name(sheet_names[0])"
   ]
  },
  {
   "cell_type": "code",
   "execution_count": 6,
   "metadata": {
    "ExecuteTime": {
     "end_time": "2020-10-26T05:30:56.763048Z",
     "start_time": "2020-10-26T05:30:56.761359Z"
    }
   },
   "outputs": [],
   "source": [
    "#data.row(0)"
   ]
  },
  {
   "cell_type": "code",
   "execution_count": 7,
   "metadata": {
    "ExecuteTime": {
     "end_time": "2020-10-26T05:30:56.768972Z",
     "start_time": "2020-10-26T05:30:56.766296Z"
    }
   },
   "outputs": [],
   "source": [
    "for i in range(0, len(data.row(0))):\n",
    "    if('glucose' in data.row(0)[i].value.lower()):\n",
    "        index = i + 1\n",
    "        break"
   ]
  },
  {
   "cell_type": "code",
   "execution_count": 8,
   "metadata": {
    "ExecuteTime": {
     "end_time": "2020-10-26T05:30:56.777614Z",
     "start_time": "2020-10-26T05:30:56.770740Z"
    }
   },
   "outputs": [
    {
     "data": {
      "text/plain": [
       "21"
      ]
     },
     "execution_count": 8,
     "metadata": {},
     "output_type": "execute_result"
    }
   ],
   "source": [
    "data.ncols"
   ]
  },
  {
   "cell_type": "code",
   "execution_count": 9,
   "metadata": {
    "ExecuteTime": {
     "end_time": "2020-10-26T05:30:56.784820Z",
     "start_time": "2020-10-26T05:30:56.779137Z"
    },
    "scrolled": true
   },
   "outputs": [
    {
     "name": "stdout",
     "output_type": "stream",
     "text": [
      "B-fast-C\n",
      "Lunch-C\n",
      "Suppl\n",
      "Dinner-C\n",
      "Sleep Time\n",
      "fasting\n",
      "BG\n",
      "Breakfast\n",
      "Lunch\n",
      "EXERCISE\n",
      "3h-PEN\n",
      "Dinner\n",
      "Sleep Time\n"
     ]
    }
   ],
   "source": [
    "for row in range(0, data.nrows):\n",
    "    if(data.cell(row, index).value != '' and not isinstance(data.cell(row, index).value, float)):\n",
    "        print(data.cell(row, index).value)"
   ]
  },
  {
   "cell_type": "markdown",
   "metadata": {},
   "source": [
    "## substring categories"
   ]
  },
  {
   "cell_type": "code",
   "execution_count": 10,
   "metadata": {
    "ExecuteTime": {
     "end_time": "2020-10-26T05:30:56.788542Z",
     "start_time": "2020-10-26T05:30:56.786473Z"
    }
   },
   "outputs": [],
   "source": [
    "eating_string = {'lunch', 'suppl', 'dinner', 'ipen', 'breakfast', 'b-fast','hpen','h-pen'}\n",
    "non_eating_string = {'fasting', 'bg', 'exer'}"
   ]
  },
  {
   "cell_type": "code",
   "execution_count": null,
   "metadata": {},
   "outputs": [],
   "source": []
  },
  {
   "cell_type": "code",
   "execution_count": null,
   "metadata": {},
   "outputs": [],
   "source": []
  },
  {
   "cell_type": "code",
   "execution_count": null,
   "metadata": {},
   "outputs": [],
   "source": []
  },
  {
   "cell_type": "code",
   "execution_count": null,
   "metadata": {},
   "outputs": [],
   "source": []
  }
 ],
 "metadata": {
  "kernelspec": {
   "display_name": "Python 3",
   "language": "python",
   "name": "python3"
  },
  "language_info": {
   "codemirror_mode": {
    "name": "ipython",
    "version": 3
   },
   "file_extension": ".py",
   "mimetype": "text/x-python",
   "name": "python",
   "nbconvert_exporter": "python",
   "pygments_lexer": "ipython3",
   "version": "3.8.5"
  }
 },
 "nbformat": 4,
 "nbformat_minor": 4
}
