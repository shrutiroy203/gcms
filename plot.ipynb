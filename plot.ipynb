{
 "cells": [
  {
   "cell_type": "code",
   "execution_count": 10,
   "metadata": {
    "ExecuteTime": {
     "end_time": "2020-11-29T14:02:27.829580Z",
     "start_time": "2020-11-29T14:02:27.827321Z"
    }
   },
   "outputs": [],
   "source": [
    "import chart_studio.plotly as py\n",
    "import plotly.graph_objects as go\n",
    "import plotly"
   ]
  },
  {
   "cell_type": "markdown",
   "metadata": {},
   "source": [
    "## Dataframe Schema : \n",
    "id, time_value, Flow, CO2_Outlet,\n",
    "O2_Outlet, CO2_Inlet, O2_Inlet, VCO2,\n",
    "VO2, RQ, EE, Heart_Rate,\n",
    "Respiratory_Rate, T_Core, T_Skin, Glucose"
   ]
  },
  {
   "cell_type": "code",
   "execution_count": 11,
   "metadata": {
    "ExecuteTime": {
     "end_time": "2020-11-29T14:02:28.479928Z",
     "start_time": "2020-11-29T14:02:28.477759Z"
    }
   },
   "outputs": [],
   "source": [
    "import pandas as pd\n",
    "pd.options.plotting.backend = \"plotly\""
   ]
  },
  {
   "cell_type": "code",
   "execution_count": 12,
   "metadata": {
    "ExecuteTime": {
     "end_time": "2020-11-29T14:02:28.666500Z",
     "start_time": "2020-11-29T14:02:28.661961Z"
    }
   },
   "outputs": [],
   "source": [
    "def plot_sensor_data(df):\n",
    "    coor_names = ['Flow', 'CO2_Outlet', 'O2_Outlet', 'CO2_Inlet', 'O2_Inlet', 'VCO2',\n",
    "                  'VO2', 'RQ', 'EE', 'Heart_Rate', 'Respiratory_Rate', 'T_Core', 'T_Skin', 'Glucose']\n",
    "    plot = []    \n",
    "    fig = go.Figure()\n",
    "    for coor in coor_names:\n",
    "        fig.add_trace(\n",
    "            go.Scatter(\n",
    "                x=df[\"time_value\"],\n",
    "                y=df[coor],\n",
    "                name=coor))\n",
    "    return fig"
   ]
  },
  {
   "cell_type": "code",
   "execution_count": 17,
   "metadata": {
    "ExecuteTime": {
     "end_time": "2020-11-29T14:10:03.575721Z",
     "start_time": "2020-11-29T14:09:56.247387Z"
    }
   },
   "outputs": [],
   "source": [
    "csv_list = ['cgms.csv']\n",
    "meal_time_list = ['meal_time.csv']\n",
    "participant_list = ['T_01_IPEN_Run', 'T-01_3h_PEN_Run', 'T-02_IPEN_Run', 'T-02_3hPEN_Run',\n",
    "                    'T-03_IPEN_Run',                    'T-04_IPEN_Run',  'T-04_3h_PEN_Run',\n",
    "                    'T-05_IPEN_Run', 'T-05_3hPEN_Run', 'T-06_IPEN_Run', 'T-06_3hPEN_Run',\n",
    "                    'T-07_IPEN_Run', 'T-07_3hPEN_Run', 'T_08_IPEN_Run', 'T_08_3hPEN_Run',\n",
    "                    'T-09_IPEN_Run', 'T_09_3hPEN_Run']\n",
    "for csv_file in csv_list:\n",
    "    for participant in participant_list:\n",
    "        #print(participant)\n",
    "        df = pd.read_csv(csv_file)\n",
    "        # print(df['id'].unique())\n",
    "        df = df.loc[df['id'] == participant].sort_values(by=['time_value'])\n",
    "\n",
    "        plot = plot_sensor_data(df)\n",
    "        #plot.show()\n",
    "        plot.write_image(participant + \".png\")"
   ]
  },
  {
   "cell_type": "code",
   "execution_count": null,
   "metadata": {},
   "outputs": [],
   "source": []
  }
 ],
 "metadata": {
  "kernelspec": {
   "display_name": "Python 3",
   "language": "python",
   "name": "python3"
  },
  "language_info": {
   "codemirror_mode": {
    "name": "ipython",
    "version": 3
   },
   "file_extension": ".py",
   "mimetype": "text/x-python",
   "name": "python",
   "nbconvert_exporter": "python",
   "pygments_lexer": "ipython3",
   "version": "3.7.7"
  }
 },
 "nbformat": 4,
 "nbformat_minor": 4
}
