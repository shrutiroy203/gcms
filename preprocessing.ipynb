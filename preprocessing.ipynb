{
 "cells": [
  {
   "cell_type": "code",
   "execution_count": 1,
   "metadata": {
    "ExecuteTime": {
     "end_time": "2020-12-04T21:37:28.320974Z",
     "start_time": "2020-12-04T21:37:28.305669Z"
    }
   },
   "outputs": [],
   "source": [
    "import psycopg2\n",
    "import itertools\n",
    "import datetime"
   ]
  },
  {
   "cell_type": "code",
   "execution_count": 2,
   "metadata": {
    "ExecuteTime": {
     "end_time": "2020-12-04T21:37:28.807440Z",
     "start_time": "2020-12-04T21:37:28.804066Z"
    }
   },
   "outputs": [],
   "source": [
    "host = 'localhost'\n",
    "port = 5432\n",
    "database = 'msds691'\n",
    "user = 'postgres'\n",
    "password = ''\n",
    "\n",
    "prev_min_range = 10\n",
    "foll_min_range = 10\n",
    "\n",
    "negative_case_interval = 240\n",
    "negative_case_after_meal = 60\n",
    "negative_case_before_meal = 60"
   ]
  },
  {
   "cell_type": "code",
   "execution_count": 3,
   "metadata": {
    "ExecuteTime": {
     "end_time": "2020-12-04T21:37:29.084980Z",
     "start_time": "2020-12-04T21:37:29.082035Z"
    }
   },
   "outputs": [],
   "source": [
    "def pretty_print(array):\n",
    "    for item in array:\n",
    "        print(','.join(str(i) for i in item))\n"
   ]
  },
  {
   "cell_type": "code",
   "execution_count": 4,
   "metadata": {
    "ExecuteTime": {
     "end_time": "2020-12-04T21:37:29.407678Z",
     "start_time": "2020-12-04T21:37:29.349271Z"
    }
   },
   "outputs": [],
   "source": [
    "conn = psycopg2.connect(host=host, port=port,\n",
    "                        database=database, user=user, password=password)\n",
    "conn.set_isolation_level(psycopg2.extensions.ISOLATION_LEVEL_REPEATABLE_READ)\n",
    "cur = conn.cursor()"
   ]
  },
  {
   "cell_type": "markdown",
   "metadata": {},
   "source": [
    "## create postgres tables"
   ]
  },
  {
   "cell_type": "code",
   "execution_count": 5,
   "metadata": {
    "ExecuteTime": {
     "end_time": "2020-12-04T20:34:43.747693Z",
     "start_time": "2020-12-04T20:34:43.020430Z"
    }
   },
   "outputs": [],
   "source": [
    "command = f\"\"\"\n",
    "DROP TABLE IF EXISTS cgms CASCADE;\n",
    "CREATE TABLE cgms(\n",
    "        id VARCHAR(30),\n",
    "        time_value TIMESTAMP,\n",
    "        Flow DOUBLE PRECISION,\n",
    "        CO2_Outlet DOUBLE PRECISION,\n",
    "        O2_Outlet DOUBLE PRECISION,\n",
    "        CO2_Inlet DOUBLE PRECISION,\n",
    "        O2_Inlet DOUBLE PRECISION,\n",
    "        VCO2 DOUBLE PRECISION,\n",
    "        VO2 DOUBLE PRECISION,\n",
    "        RQ DOUBLE PRECISION,\n",
    "        EE DOUBLE PRECISION,\n",
    "        Heart_Rate DOUBLE PRECISION,\n",
    "        Respiratory_Rate DOUBLE PRECISION,\n",
    "        T_Core DOUBLE PRECISION,\n",
    "        T_Skin DOUBLE PRECISION,\n",
    "        Glucose DOUBLE PRECISION,\n",
    "        PRIMARY KEY (id, time_value)\n",
    ");\n",
    "COPY cgms FROM '/Users/dwoodbridge/Research/CGMS/cgms.csv' CSV HEADER;\n",
    "\n",
    "DROP TABLE IF EXISTS meal_time CASCADE;\n",
    "CREATE TABLE meal_time\n",
    "(\n",
    "        id VARCHAR(30),\n",
    "        pattern VARCHAR(20),\n",
    "        time_value TIMESTAMP,\n",
    "        row INTEGER,\n",
    "        PRIMARY KEY (id, time_value)\n",
    ");\n",
    "COPY meal_time FROM '/Users/dwoodbridge/Research/CGMS/meal_time.csv' CSV HEADER;\n",
    "\n",
    "DROP VIEW IF EXISTS cgms_meal_time_view;\n",
    "CREATE VIEW cgms_meal_time_view AS\n",
    "SELECT cgms.id, cgms.time_value, Flow, CO2_Outlet, O2_Outlet, CO2_Inlet, O2_Inlet, VCO2, VO2,\n",
    "RQ, EE, Heart_Rate, Respiratory_Rate, T_Core, T_Skin, Glucose, CASE WHEN pattern IS NOT NULL THEN True END AS meal\n",
    "FROM cgms\n",
    "LEFT JOIN meal_time\n",
    "ON cgms.id = meal_time.id AND cgms.time_value = meal_time.time_value\n",
    "ORDER BY id, time_value;\n",
    "\"\"\"\n",
    "cur.execute(command)\n",
    "conn.commit()"
   ]
  },
  {
   "cell_type": "markdown",
   "metadata": {},
   "source": [
    "## Distinct IDs"
   ]
  },
  {
   "cell_type": "code",
   "execution_count": 5,
   "metadata": {
    "ExecuteTime": {
     "end_time": "2020-12-04T21:37:31.811183Z",
     "start_time": "2020-12-04T21:37:31.806852Z"
    }
   },
   "outputs": [],
   "source": [
    "command = \"\"\"SELECT DISTINCT(id) FROM meal_time;\"\"\"\n",
    "cur.execute(command)\n",
    "conn.commit()\n",
    "data = cur.fetchall()"
   ]
  },
  {
   "cell_type": "code",
   "execution_count": 43,
   "metadata": {
    "ExecuteTime": {
     "end_time": "2020-12-04T23:40:40.742233Z",
     "start_time": "2020-12-04T23:40:40.739859Z"
    }
   },
   "outputs": [],
   "source": [
    "id_list = list()\n",
    "for i in range(0, len(data)):\n",
    "    id_list.append(data[i][0])"
   ]
  },
  {
   "cell_type": "code",
   "execution_count": 46,
   "metadata": {
    "ExecuteTime": {
     "end_time": "2020-12-04T23:40:41.452975Z",
     "start_time": "2020-12-04T23:40:41.451105Z"
    }
   },
   "outputs": [],
   "source": [
    "data_size = foll_min_range + prev_min_range - 1  "
   ]
  },
  {
   "cell_type": "markdown",
   "metadata": {},
   "source": [
    "## Create positive cases"
   ]
  },
  {
   "cell_type": "code",
   "execution_count": 47,
   "metadata": {
    "ExecuteTime": {
     "end_time": "2020-12-04T23:40:42.094258Z",
     "start_time": "2020-12-04T23:40:41.868707Z"
    },
    "scrolled": false
   },
   "outputs": [],
   "source": [
    "ml_positive_input = list()\n",
    "\n",
    "for id in id_list:\n",
    "    command = f\"\"\"SELECT id, time_value FROM meal_time WHERE id = '{id}';\"\"\"\n",
    "    cur.execute(command)\n",
    "    conn.commit()\n",
    "    id_times = cur.fetchall()\n",
    "\n",
    "    for id_time in id_times:\n",
    "        id = id_time[0]\n",
    "        meal_time = id_time[1]\n",
    "\n",
    "        command = f\"\"\"SELECT * FROM cgms_meal_time_view WHERE id = '{id}' AND\\\n",
    "                      time_value >= TIMESTAMP '{meal_time}' - INTERVAL '{prev_min_range} minutes' AND\\\n",
    "                      time_value <= TIMESTAMP '{meal_time}' + INTERVAL '{foll_min_range} minutes';\"\"\"\n",
    "        cur.execute(command)\n",
    "        conn.commit()\n",
    "        readings = cur.fetchall()\n",
    "\n",
    "        input = list()\n",
    "        if(len(readings) == data_size):\n",
    "            for i in range(0, data_size):\n",
    "                input.append(readings[i][2:-1])\n",
    "            input.append([1]) # label\n",
    "            ml_positive_input.append(list(itertools.chain(*input)))\n",
    "        \n",
    "        else: # Leave Missing Data as None\n",
    "            command = f\"\"\"SELECT MIN(time_value), MAX(time_value)\n",
    "                          FROM cgms_meal_time_view WHERE id = '{id}' AND\\\n",
    "                          time_value >= TIMESTAMP '{meal_time}' - INTERVAL '{prev_min_range} minutes' AND\\\n",
    "                          time_value <= TIMESTAMP '{meal_time}' + INTERVAL '{foll_min_range} minutes';\"\"\"\n",
    "            cur.execute(command)\n",
    "            conn.commit()\n",
    "            reading = cur.fetchone()\n",
    "            first, last = reading[0], reading[1]\n",
    "\n",
    "            min_time = meal_time - datetime.timedelta(minutes=prev_min_range)\n",
    "            first = first - datetime.timedelta(minutes=1)\n",
    "            while(first > min_time):\n",
    "                prev_null_reading = [(first, None, None, None, None, None, None, None,\\\n",
    "                                     None, None, None, None, None, None,\\\n",
    "                                     None, None, None)]\n",
    "                readings[:0] = prev_null_reading\n",
    "                \n",
    "                first = first - datetime.timedelta(minutes=1)\n",
    "            \n",
    "            max_time = meal_time + datetime.timedelta(minutes=foll_min_range)\n",
    "            last = last + datetime.timedelta(minutes=1)\n",
    "            while(last < max_time):\n",
    "                foll_null_reading = (last, None, None, None, None, None, None, None,\\\n",
    "                                     None, None, None, None, None, None,\\\n",
    "                                     None, None, None)\n",
    "                readings.append(foll_null_reading)\n",
    "                \n",
    "                last = last + datetime.timedelta(minutes=1)\n",
    "            \n",
    "            input = list()\n",
    "            if(len(readings) == data_size):\n",
    "                for i in range(0, data_size):\n",
    "                    input.append(readings[i][2:-1])\n",
    "                input.append([1]) # label\n",
    "                ml_positive_input.append(list(itertools.chain(*input)))"
   ]
  },
  {
   "cell_type": "markdown",
   "metadata": {
    "ExecuteTime": {
     "end_time": "2020-12-04T19:01:10.169991Z",
     "start_time": "2020-12-04T19:01:10.167386Z"
    }
   },
   "source": [
    "## Create negative cases"
   ]
  },
  {
   "cell_type": "code",
   "execution_count": 48,
   "metadata": {
    "ExecuteTime": {
     "end_time": "2020-12-04T23:40:42.791922Z",
     "start_time": "2020-12-04T23:40:42.783282Z"
    }
   },
   "outputs": [],
   "source": [
    "command =  f\"\"\"\n",
    "            SELECT id, time_value, next_time_value\n",
    "            FROM\n",
    "            (\n",
    "                SELECT id, time_value, \n",
    "                       LEAD(time_value) OVER (PARTITION BY id ORDER BY time_value) AS next_time_value\n",
    "                FROM cgms_meal_time_view\n",
    "                WHERE meal = True\n",
    "            ) AS id_time_next_time\n",
    "            WHERE next_time_value - time_value > INTERVAL '{negative_case_interval} minutes';\n",
    "            \"\"\"\n",
    "cur.execute(command)\n",
    "conn.commit()\n",
    "data = cur.fetchall()"
   ]
  },
  {
   "cell_type": "code",
   "execution_count": 49,
   "metadata": {
    "ExecuteTime": {
     "end_time": "2020-12-04T23:40:43.551524Z",
     "start_time": "2020-12-04T23:40:43.095177Z"
    }
   },
   "outputs": [],
   "source": [
    "ml_negative_input = list()\n",
    "for dat in data:\n",
    "    neg_eating_start = dat[1] + datetime.timedelta(minutes=negative_case_after_meal)\n",
    "    \n",
    "    neg_eating_end = dat[2] - datetime.timedelta(minutes=negative_case_before_meal)\n",
    "    id = dat[0]\n",
    "    \n",
    "    command = f\"\"\"SELECT * \n",
    "               FROM cgms_meal_time_view \n",
    "               WHERE id = '{id}'\n",
    "               AND time_value >= '{neg_eating_start}'\n",
    "               AND time_value <= '{neg_eating_end}';\"\"\"\n",
    "    cur.execute(command)\n",
    "    conn.commit()\n",
    "    neg_data = cur.fetchall()\n",
    "    \n",
    "    for i in range(0, len(neg_data) -  (data_size + 1)):\n",
    "        length = 0\n",
    "        readings = list()\n",
    "        while (length < data_size):\n",
    "            readings.append(neg_data[i + length][2:-1])\n",
    "            length = length + 1\n",
    "        readings.append([0])\n",
    "        ml_negative_input.append(list(itertools.chain(*readings)))\n"
   ]
  },
  {
   "cell_type": "code",
   "execution_count": 51,
   "metadata": {
    "ExecuteTime": {
     "end_time": "2020-12-04T23:41:35.417743Z",
     "start_time": "2020-12-04T23:41:31.197098Z"
    }
   },
   "outputs": [
    {
     "name": "stdout",
     "output_type": "stream",
     "text": [
      "cgms_10_10_60_60.csv\n"
     ]
    }
   ],
   "source": [
    "import csv\n",
    "\n",
    "file_name = '{}_{}_{}_{}_{}.csv'.format(\n",
    "    'cgms', prev_min_range, foll_min_range, negative_case_after_meal, negative_case_before_meal)\n",
    "print(file_name)\n",
    "file = open(file_name, 'w', newline='')\n",
    "\n",
    "# writing the data into the file\n",
    "with file:\n",
    "    write = csv.writer(file)\n",
    "    write.writerows(ml_positive_input)\n",
    "    write.writerows(ml_negative_input)\n",
    "    file.close()"
   ]
  },
  {
   "cell_type": "code",
   "execution_count": 52,
   "metadata": {
    "ExecuteTime": {
     "end_time": "2020-12-04T23:43:37.616779Z",
     "start_time": "2020-12-04T23:43:37.614341Z"
    }
   },
   "outputs": [],
   "source": [
    "conn.close()"
   ]
  },
  {
   "cell_type": "code",
   "execution_count": null,
   "metadata": {},
   "outputs": [],
   "source": []
  }
 ],
 "metadata": {
  "kernelspec": {
   "display_name": "Python 3",
   "language": "python",
   "name": "python3"
  },
  "language_info": {
   "codemirror_mode": {
    "name": "ipython",
    "version": 3
   },
   "file_extension": ".py",
   "mimetype": "text/x-python",
   "name": "python",
   "nbconvert_exporter": "python",
   "pygments_lexer": "ipython3",
   "version": "3.7.7"
  }
 },
 "nbformat": 4,
 "nbformat_minor": 4
}
